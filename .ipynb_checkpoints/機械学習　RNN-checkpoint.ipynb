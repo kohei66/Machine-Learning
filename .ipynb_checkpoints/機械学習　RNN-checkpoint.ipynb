{
 "cells": [
  {
   "cell_type": "code",
   "execution_count": 1,
   "metadata": {},
   "outputs": [],
   "source": [
    "# エラーが出る場合\n",
    "# mac\n",
    "# !pip3 install chainer\n",
    "\n",
    "#windows\n",
    "#!pip instrall chainer"
   ]
  },
  {
   "cell_type": "code",
   "execution_count": 3,
   "metadata": {},
   "outputs": [],
   "source": [
    "import chainer"
   ]
  },
  {
   "cell_type": "markdown",
   "metadata": {},
   "source": [
    "## NN(Neural Network)の構造を明示"
   ]
  },
  {
   "cell_type": "code",
   "execution_count": 4,
   "metadata": {},
   "outputs": [],
   "source": [
    "import chainer.links as L"
   ]
  },
  {
   "cell_type": "code",
   "execution_count": 15,
   "metadata": {},
   "outputs": [],
   "source": [
    "import numpy as np\n",
    "#シードの固定\n",
    "np.random.seed(6)\n",
    "# 3入力2出力のニューラルネットワークの構造を明示\n",
    "l1 = L.Linear(3, 2)"
   ]
  },
  {
   "cell_type": "code",
   "execution_count": 16,
   "metadata": {},
   "outputs": [
    {
     "data": {
      "text/plain": [
       "variable W([[-0.18000838,  0.4208906 ,  0.12575889],\n",
       "            [-0.5190909 , -1.4357435 ,  0.527266  ]])"
      ]
     },
     "execution_count": 16,
     "metadata": {},
     "output_type": "execute_result"
    }
   ],
   "source": [
    "# 上の記述をした時点で、重みwとバイアスbは定義されている\n",
    "l1.W"
   ]
  },
  {
   "cell_type": "code",
   "execution_count": 17,
   "metadata": {},
   "outputs": [
    {
     "data": {
      "text/plain": [
       "variable b([0., 0.])"
      ]
     },
     "execution_count": 17,
     "metadata": {},
     "output_type": "execute_result"
    }
   ],
   "source": [
    "#バイアスの確認\n",
    "l1.b"
   ]
  },
  {
   "cell_type": "code",
   "execution_count": 18,
   "metadata": {},
   "outputs": [],
   "source": [
    "# 線形変換\n",
    "#入力変数　xベクトルに数値を入れてあげる、その際にchainerでは32ビットで渡してあげる必要がある\n",
    "x = np.array([[1,2,3]],\"f\")\n",
    "\n",
    "u = l1(x)"
   ]
  },
  {
   "cell_type": "code",
   "execution_count": 19,
   "metadata": {},
   "outputs": [
    {
     "data": {
      "text/plain": [
       "variable([[ 1.0390495, -1.8087797]])"
      ]
     },
     "execution_count": 19,
     "metadata": {},
     "output_type": "execute_result"
    }
   ],
   "source": [
    "#もうすでに線形変換はここまでで終わり\n",
    "u"
   ]
  },
  {
   "cell_type": "code",
   "execution_count": 21,
   "metadata": {},
   "outputs": [
    {
     "data": {
      "text/plain": [
       "variable([[1.0390495, 0.       ]])"
      ]
     },
     "execution_count": 21,
     "metadata": {},
     "output_type": "execute_result"
    }
   ],
   "source": [
    "# 非線型変換\n",
    "import chainer.functions as F\n",
    "\n",
    "#relu関数に入れる。正の数値はそのまま、負の数値は0になる\n",
    "z = F.relu(u)\n",
    "z"
   ]
  },
  {
   "cell_type": "code",
   "execution_count": 24,
   "metadata": {},
   "outputs": [
    {
     "data": {
      "text/plain": [
       "variable([[-0.09968678]])"
      ]
     },
     "execution_count": 24,
     "metadata": {},
     "output_type": "execute_result"
    }
   ],
   "source": [
    "# 3->2->1 の構造を定義して、予想値yを計算してください。\n",
    "# x = np.array([[1,2,3]], \"f\")\n",
    "# np.random.seed(3)\n",
    "# 活性化関数はrelu関数\n",
    "\n",
    "x = np.array([[1,2,3]], \"f\")\n",
    "np.random.seed(3)\n",
    "# 3->2\n",
    "l1 = L.Linear(3, 2)\n",
    "#2->1\n",
    "l2 = L.Linear(2, 1)\n",
    "\n",
    "#3->2\n",
    "h = l1(x)\n",
    "h = F.relu(h)\n",
    "\n",
    "#2->1\n",
    "h = l2(z)\n",
    "y = h\n",
    "\n",
    "y"
   ]
  },
  {
   "cell_type": "markdown",
   "metadata": {},
   "source": [
    "## 損失関数の計算"
   ]
  },
  {
   "cell_type": "markdown",
   "metadata": {},
   "source": [
    "## 平均二乗誤差"
   ]
  },
  {
   "cell_type": "code",
   "execution_count": 25,
   "metadata": {},
   "outputs": [],
   "source": [
    "t = np.array([[20]],\"f\")\n",
    "loss = F.mean_squared_error(t, y)"
   ]
  },
  {
   "cell_type": "code",
   "execution_count": 26,
   "metadata": {},
   "outputs": [
    {
     "data": {
      "text/plain": [
       "variable(403.99744)"
      ]
     },
     "execution_count": 26,
     "metadata": {},
     "output_type": "execute_result"
    }
   ],
   "source": [
    "loss"
   ]
  },
  {
   "cell_type": "markdown",
   "metadata": {},
   "source": [
    "## 非線型回帰を試そう"
   ]
  },
  {
   "cell_type": "code",
   "execution_count": 34,
   "metadata": {},
   "outputs": [],
   "source": [
    "# 数値計算関連\n",
    "import numpy as np\n",
    "import matplotlib.pyplot as plt\n",
    "# chainer\n",
    "from chainer import Chain, Variable, optimizers\n",
    "import chainer.functions as F\n",
    "import chainer.links as L"
   ]
  },
  {
   "cell_type": "code",
   "execution_count": 116,
   "metadata": {},
   "outputs": [],
   "source": [
    "class MyChain(Chain):\n",
    "    #モデルの構造を明示\n",
    "    def __init__(self):\n",
    "        super().__init__(\n",
    "            l1 = L.Linear(1, 100),\n",
    "            l2 = L.Linear(100,30),\n",
    "            l3 = L.Linear(30, 1)\n",
    "        )\n",
    "        \n",
    "    #評価関数の計算\n",
    "    def __call__(self, x, t):\n",
    "        return F.mean_squared_error(self.fwd(x),t)\n",
    "        \n",
    "        #順伝播の計算\n",
    "    def fwd(self, x):\n",
    "        h = self.l1(x)\n",
    "        h = F.sigmoid(h)\n",
    "        h= self.l2(h)\n",
    "        h= F.sigmoid(h)\n",
    "        return self.l3(h)\n",
    "    \n",
    "# class MyChain(Chain):\n",
    "\n",
    "#     # モデルの構造を明示\n",
    "#     def __init__(self):\n",
    "#         super(MyChain, self).__init__(\n",
    "#             l1 = L.Linear(1, 100),\n",
    "#             l2 = L.Linear(100, 30),\n",
    "#             l3 = L.Linear(30, 1)\n",
    "#         )\n",
    "\n",
    "#     # 評価関数の計算\n",
    "#     def __call__(self, x, y):\n",
    "#         return F.mean_squared_error(self.fwd(x), y)\n",
    "\n",
    "#     # 順伝播の計算\n",
    "#     def fwd(self, x):\n",
    "# #         z1 = F.sigmoid(self.l1(x))\n",
    "# #         z2 = F.sigmoid(self.l2(z1))\n",
    "#         z1 = F.relu(self.l1(x))\n",
    "#         z2 = F.relu(self.l2(z1))\n",
    "#         return self.l3(z2)"
   ]
  },
  {
   "cell_type": "code",
   "execution_count": 117,
   "metadata": {},
   "outputs": [],
   "source": [
    "#乱数のシードの固定\n",
    "np.random.seed(1)\n",
    "\n",
    "#データの生成\n",
    "x_train = np.linspace(-3, 3, 300).reshape(300, 1)\n",
    "t_train = np.sin(x_train)\n",
    "\n",
    "#NNモデルを宣言\n",
    "model = MyChain()\n",
    "\n",
    "#最適化関数の設定\n",
    "# optimizer = optimizers.SGD()\n",
    "#PFNの人がとりあえずADAMと言っている最適化関数\n",
    "optimizer = optimizers.Adam()\n",
    "optimizer.setup(model)\n",
    "\n",
    "#データをchainerの型に変換 32bitに変えてあげる\n",
    "x = Variable(np.array(x_train, \"f\"))\n",
    "t = Variable(np.array(t_train, \"f\"))\n",
    "\n",
    "#訓練結果の保存\n",
    "losses = []\n",
    "\n",
    "for i in range(5000): #ここの数値を変えると学習回数を変えることができる\n",
    "    model.zerograds() #勾配の初期化（傾きのことで、それがchainerの仕様で前の情報が残ってしまうので、それをゼロにしている\n",
    "    loss = model(x,t) #誤差の計算　予測値と実測値の誤差を出している\n",
    "    losses.append(loss.data) #あとでプロットするように保存しておく\n",
    "    loss.backward() #傾きの計算\n",
    "    optimizer.update() #パラメータの更新\n",
    "    "
   ]
  },
  {
   "cell_type": "code",
   "execution_count": 118,
   "metadata": {},
   "outputs": [
    {
     "data": {
      "image/png": "[encoded data removed]",
      "text/plain": [
       "<Figure size 432x288 with 1 Axes>"
      ]
     },
     "metadata": {},
     "output_type": "display_data"
    }
   ],
   "source": [
    "plt.plot(losses)\n",
    "plt.show()\n",
    "\n",
    "#下の飛び出しているのはヒゲと呼ばれているもので外れ値みたいなもの\n",
    "#たての行がロス誤差　評価関数の算出値"
   ]
  },
  {
   "cell_type": "code",
   "execution_count": 119,
   "metadata": {},
   "outputs": [
    {
     "data": {
      "image/png": "[encoded data removed]",
      "text/plain": [
       "<Figure size 432x288 with 1 Axes>"
      ]
     },
     "metadata": {},
     "output_type": "display_data"
    }
   ],
   "source": [
    "# プロット\n",
    "t_ = model.fwd(x)\n",
    "plt.plot(x.data, t.data)\n",
    "plt.scatter(x.data, t_.data)\n",
    "plt.grid(which='major',color='gray',linestyle='-')\n",
    "plt.ylim(-1.5, 1.5)\n",
    "plt.xlim(-4, 4)\n",
    "plt.show()"
   ]
  },
  {
   "cell_type": "code",
   "execution_count": 120,
   "metadata": {},
   "outputs": [],
   "source": [
    "# NNが何層でノードがいくつか、 最適化関数の種類　学習回数　\n",
    "https://qiita.com/yoshizaki_kkgk/private/7bd872f19e5da7d066f7"
   ]
  },
  {
   "cell_type": "code",
   "execution_count": 1,
   "metadata": {},
   "outputs": [
    {
     "ename": "NameError",
     "evalue": "name 'pd' is not defined",
     "output_type": "error",
     "traceback": [
      "\u001b[0;31m---------------------------------------------------------------------------\u001b[0m",
      "\u001b[0;31mNameError\u001b[0m                                 Traceback (most recent call last)",
      "\u001b[0;32m<ipython-input-1-b19400be8f50>\u001b[0m in \u001b[0;36m<module>\u001b[0;34m()\u001b[0m\n\u001b[0;32m----> 1\u001b[0;31m \u001b[0mdf\u001b[0m \u001b[0;34m=\u001b[0m \u001b[0mpd\u001b[0m\u001b[0;34m.\u001b[0m\u001b[0mread_csv\u001b[0m\u001b[0;34m(\u001b[0m\u001b[0;34m'http://localhost:8888/edit/machine%20learning/RNN%E7%94%A8%E3%83%86%E3%82%99%E3%83%BC%E3%82%BF%20total%20%E3%81%AE%E5%AD%A6%E7%BF%92%E7%94%A8%E3%81%AE%E3%81%BF.csv'\u001b[0m\u001b[0;34m,\u001b[0m \u001b[0mheader\u001b[0m\u001b[0;34m=\u001b[0m\u001b[0;32mNone\u001b[0m\u001b[0;34m)\u001b[0m\u001b[0;34m\u001b[0m\u001b[0m\n\u001b[0m\u001b[1;32m      2\u001b[0m \u001b[0mdf\u001b[0m\u001b[0;34m.\u001b[0m\u001b[0mhead\u001b[0m\u001b[0;34m(\u001b[0m\u001b[0;34m)\u001b[0m\u001b[0;34m\u001b[0m\u001b[0m\n",
      "\u001b[0;31mNameError\u001b[0m: name 'pd' is not defined"
     ]
    }
   ],
   "source": [
    "url = \"http://localhost:8888/edit/machine%20learning/RNN%E7%94%A8%E3%83%86%E3%82%99%E3%83%BC%E3%82%BF%20total%20%E3%81%AE%E5%AD%A6%E7%BF%92%E7%94%A8%E3%81%AE%E3%81%BF.csv\"\n",
    "df = pd.read_csv(url, header=None)\n",
    "df.head()"
   ]
  },
  {
   "cell_type": "code",
   "execution_count": 114,
   "metadata": {},
   "outputs": [],
   "source": [
    "\n",
    "    "
   ]
  },
  {
   "cell_type": "code",
   "execution_count": null,
   "metadata": {},
   "outputs": [],
   "source": [
    "\n"
   ]
  },
  {
   "cell_type": "code",
   "execution_count": null,
   "metadata": {},
   "outputs": [],
   "source": []
  },
  {
   "cell_type": "code",
   "execution_count": null,
   "metadata": {},
   "outputs": [],
   "source": []
  }
 ],
 "metadata": {
  "kernelspec": {
   "display_name": "Python 3",
   "language": "python",
   "name": "python3"
  },
  "language_info": {
   "codemirror_mode": {
    "name": "ipython",
    "version": 3
   },
   "file_extension": ".py",
   "mimetype": "text/x-python",
   "name": "python",
   "nbconvert_exporter": "python",
   "pygments_lexer": "ipython3",
   "version": "3.6.4"
  }
 },
 "nbformat": 4,
 "nbformat_minor": 2
}
